{
 "cells": [
  {
   "cell_type": "code",
   "execution_count": 26,
   "metadata": {},
   "outputs": [
    {
     "name": "stdout",
     "output_type": "stream",
     "text": [
      "Checking whether there is an H2O instance running at http://localhost:54321 . connected.\n"
     ]
    },
    {
     "data": {
      "text/html": [
       "<div style=\"overflow:auto\"><table style=\"width:50%\"><tr><td>H2O cluster uptime:</td>\n",
       "<td>13 mins 17 secs</td></tr>\n",
       "<tr><td>H2O cluster timezone:</td>\n",
       "<td>America/Los_Angeles</td></tr>\n",
       "<tr><td>H2O data parsing timezone:</td>\n",
       "<td>UTC</td></tr>\n",
       "<tr><td>H2O cluster version:</td>\n",
       "<td>3.24.0.4</td></tr>\n",
       "<tr><td>H2O cluster version age:</td>\n",
       "<td>14 days, 8 hours and 22 minutes </td></tr>\n",
       "<tr><td>H2O cluster name:</td>\n",
       "<td>H2O_from_python_yuqingz_o2ygqp</td></tr>\n",
       "<tr><td>H2O cluster total nodes:</td>\n",
       "<td>1</td></tr>\n",
       "<tr><td>H2O cluster free memory:</td>\n",
       "<td>3.427 Gb</td></tr>\n",
       "<tr><td>H2O cluster total cores:</td>\n",
       "<td>4</td></tr>\n",
       "<tr><td>H2O cluster allowed cores:</td>\n",
       "<td>4</td></tr>\n",
       "<tr><td>H2O cluster status:</td>\n",
       "<td>locked, healthy</td></tr>\n",
       "<tr><td>H2O connection url:</td>\n",
       "<td>http://localhost:54321</td></tr>\n",
       "<tr><td>H2O connection proxy:</td>\n",
       "<td>None</td></tr>\n",
       "<tr><td>H2O internal security:</td>\n",
       "<td>False</td></tr>\n",
       "<tr><td>H2O API Extensions:</td>\n",
       "<td>Amazon S3, XGBoost, Algos, AutoML, Core V3, Core V4</td></tr>\n",
       "<tr><td>Python version:</td>\n",
       "<td>3.6.8 final</td></tr></table></div>"
      ],
      "text/plain": [
       "--------------------------  ---------------------------------------------------\n",
       "H2O cluster uptime:         13 mins 17 secs\n",
       "H2O cluster timezone:       America/Los_Angeles\n",
       "H2O data parsing timezone:  UTC\n",
       "H2O cluster version:        3.24.0.4\n",
       "H2O cluster version age:    14 days, 8 hours and 22 minutes\n",
       "H2O cluster name:           H2O_from_python_yuqingz_o2ygqp\n",
       "H2O cluster total nodes:    1\n",
       "H2O cluster free memory:    3.427 Gb\n",
       "H2O cluster total cores:    4\n",
       "H2O cluster allowed cores:  4\n",
       "H2O cluster status:         locked, healthy\n",
       "H2O connection url:         http://localhost:54321\n",
       "H2O connection proxy:\n",
       "H2O internal security:      False\n",
       "H2O API Extensions:         Amazon S3, XGBoost, Algos, AutoML, Core V3, Core V4\n",
       "Python version:             3.6.8 final\n",
       "--------------------------  ---------------------------------------------------"
      ]
     },
     "metadata": {},
     "output_type": "display_data"
    },
    {
     "data": {
      "text/html": [
       "<div style=\"overflow:auto\"><table style=\"width:50%\"><tr><td>H2O cluster uptime:</td>\n",
       "<td>13 mins 17 secs</td></tr>\n",
       "<tr><td>H2O cluster timezone:</td>\n",
       "<td>America/Los_Angeles</td></tr>\n",
       "<tr><td>H2O data parsing timezone:</td>\n",
       "<td>UTC</td></tr>\n",
       "<tr><td>H2O cluster version:</td>\n",
       "<td>3.24.0.4</td></tr>\n",
       "<tr><td>H2O cluster version age:</td>\n",
       "<td>14 days, 8 hours and 22 minutes </td></tr>\n",
       "<tr><td>H2O cluster name:</td>\n",
       "<td>H2O_from_python_yuqingz_o2ygqp</td></tr>\n",
       "<tr><td>H2O cluster total nodes:</td>\n",
       "<td>1</td></tr>\n",
       "<tr><td>H2O cluster free memory:</td>\n",
       "<td>3.427 Gb</td></tr>\n",
       "<tr><td>H2O cluster total cores:</td>\n",
       "<td>4</td></tr>\n",
       "<tr><td>H2O cluster allowed cores:</td>\n",
       "<td>4</td></tr>\n",
       "<tr><td>H2O cluster status:</td>\n",
       "<td>locked, healthy</td></tr>\n",
       "<tr><td>H2O connection url:</td>\n",
       "<td>http://localhost:54321</td></tr>\n",
       "<tr><td>H2O connection proxy:</td>\n",
       "<td>None</td></tr>\n",
       "<tr><td>H2O internal security:</td>\n",
       "<td>False</td></tr>\n",
       "<tr><td>H2O API Extensions:</td>\n",
       "<td>Amazon S3, XGBoost, Algos, AutoML, Core V3, Core V4</td></tr>\n",
       "<tr><td>Python version:</td>\n",
       "<td>3.6.8 final</td></tr></table></div>"
      ],
      "text/plain": [
       "--------------------------  ---------------------------------------------------\n",
       "H2O cluster uptime:         13 mins 17 secs\n",
       "H2O cluster timezone:       America/Los_Angeles\n",
       "H2O data parsing timezone:  UTC\n",
       "H2O cluster version:        3.24.0.4\n",
       "H2O cluster version age:    14 days, 8 hours and 22 minutes\n",
       "H2O cluster name:           H2O_from_python_yuqingz_o2ygqp\n",
       "H2O cluster total nodes:    1\n",
       "H2O cluster free memory:    3.427 Gb\n",
       "H2O cluster total cores:    4\n",
       "H2O cluster allowed cores:  4\n",
       "H2O cluster status:         locked, healthy\n",
       "H2O connection url:         http://localhost:54321\n",
       "H2O connection proxy:\n",
       "H2O internal security:      False\n",
       "H2O API Extensions:         Amazon S3, XGBoost, Algos, AutoML, Core V3, Core V4\n",
       "Python version:             3.6.8 final\n",
       "--------------------------  ---------------------------------------------------"
      ]
     },
     "metadata": {},
     "output_type": "display_data"
    }
   ],
   "source": [
    "# Import module and initiate session\n",
    "import h2o\n",
    "h2o.init()\n",
    "h2o.cluster().show_status()"
   ]
  },
  {
   "cell_type": "code",
   "execution_count": 27,
   "metadata": {},
   "outputs": [
    {
     "name": "stdout",
     "output_type": "stream",
     "text": [
      "Parse progress: |█████████████████████████████████████████████████████████| 100%\n"
     ]
    }
   ],
   "source": [
    "# Load data into H2O\n",
    "data_path = \"online_shoppers_intention.csv\"\n",
    "df = h2o.import_file(data_path)"
   ]
  },
  {
   "cell_type": "code",
   "execution_count": 28,
   "metadata": {},
   "outputs": [
    {
     "name": "stdout",
     "output_type": "stream",
     "text": [
      "Rows:12330\n",
      "Cols:18\n",
      "\n",
      "\n"
     ]
    },
    {
     "data": {
      "text/html": [
       "<table>\n",
       "<thead>\n",
       "<tr><th>       </th><th>Administrative    </th><th>Administrative_Duration  </th><th>Informational     </th><th>Informational_Duration  </th><th>ProductRelated    </th><th>ProductRelated_Duration  </th><th>BounceRates        </th><th>ExitRates           </th><th>PageValues       </th><th>SpecialDay         </th><th>Month  </th><th>OperatingSystems  </th><th>Browser           </th><th>Region            </th><th>TrafficType      </th><th>VisitorType      </th><th>Weekend  </th><th>Revenue  </th></tr>\n",
       "</thead>\n",
       "<tbody>\n",
       "<tr><td>type   </td><td>int               </td><td>real                     </td><td>int               </td><td>real                    </td><td>int               </td><td>real                     </td><td>real               </td><td>real                </td><td>real             </td><td>real               </td><td>enum   </td><td>int               </td><td>int               </td><td>int               </td><td>int              </td><td>enum             </td><td>enum     </td><td>enum     </td></tr>\n",
       "<tr><td>mins   </td><td>0.0               </td><td>0.0                      </td><td>0.0               </td><td>0.0                     </td><td>0.0               </td><td>0.0                      </td><td>0.0                </td><td>0.0                 </td><td>0.0              </td><td>0.0                </td><td>       </td><td>1.0               </td><td>1.0               </td><td>1.0               </td><td>1.0              </td><td>                 </td><td>         </td><td>         </td></tr>\n",
       "<tr><td>mean   </td><td>2.3151662611516612</td><td>80.81861053933592        </td><td>0.5035685320356855</td><td>34.47239792772303       </td><td>31.731467964314678</td><td>1194.7462199688264       </td><td>0.02219138047072181</td><td>0.04307279776650447 </td><td>5.889257862693593</td><td>0.06142741281427416</td><td>       </td><td>2.1240064882400644</td><td>2.357096512570965 </td><td>3.147364152473641 </td><td>4.069586374695863</td><td>                 </td><td>         </td><td>         </td></tr>\n",
       "<tr><td>maxs   </td><td>27.0              </td><td>3398.75                  </td><td>24.0              </td><td>2549.375                </td><td>705.0             </td><td>63973.52223              </td><td>0.2                </td><td>0.2                 </td><td>361.7637419      </td><td>1.0                </td><td>       </td><td>8.0               </td><td>13.0              </td><td>9.0               </td><td>20.0             </td><td>                 </td><td>         </td><td>         </td></tr>\n",
       "<tr><td>sigma  </td><td>3.3217841061569113</td><td>176.77910747048634       </td><td>1.2701564259833908</td><td>140.74929442219795      </td><td>44.475503304936524</td><td>1913.6692878720035       </td><td>0.04848832180626067</td><td>0.048596540551443565</td><td>18.56843660780653</td><td>0.1989172731526287 </td><td>       </td><td>0.911324828710665 </td><td>1.7172766755534394</td><td>2.4015912367437138</td><td>4.025169160452514</td><td>                 </td><td>         </td><td>         </td></tr>\n",
       "<tr><td>zeros  </td><td>5768              </td><td>5903                     </td><td>9699              </td><td>9925                    </td><td>38                </td><td>755                      </td><td>5518               </td><td>76                  </td><td>9600             </td><td>11079              </td><td>       </td><td>0                 </td><td>0                 </td><td>0                 </td><td>0                </td><td>                 </td><td>         </td><td>         </td></tr>\n",
       "<tr><td>missing</td><td>0                 </td><td>0                        </td><td>0                 </td><td>0                       </td><td>0                 </td><td>0                        </td><td>0                  </td><td>0                   </td><td>0                </td><td>0                  </td><td>0      </td><td>0                 </td><td>0                 </td><td>0                 </td><td>0                </td><td>0                </td><td>0        </td><td>0        </td></tr>\n",
       "<tr><td>0      </td><td>0.0               </td><td>0.0                      </td><td>0.0               </td><td>0.0                     </td><td>1.0               </td><td>0.0                      </td><td>0.2                </td><td>0.2                 </td><td>0.0              </td><td>0.0                </td><td>Feb    </td><td>1.0               </td><td>1.0               </td><td>1.0               </td><td>1.0              </td><td>Returning_Visitor</td><td>FALSE    </td><td>FALSE    </td></tr>\n",
       "<tr><td>1      </td><td>0.0               </td><td>0.0                      </td><td>0.0               </td><td>0.0                     </td><td>2.0               </td><td>64.0                     </td><td>0.0                </td><td>0.1                 </td><td>0.0              </td><td>0.0                </td><td>Feb    </td><td>2.0               </td><td>2.0               </td><td>1.0               </td><td>2.0              </td><td>Returning_Visitor</td><td>FALSE    </td><td>FALSE    </td></tr>\n",
       "<tr><td>2      </td><td>0.0               </td><td>0.0                      </td><td>0.0               </td><td>0.0                     </td><td>1.0               </td><td>0.0                      </td><td>0.2                </td><td>0.2                 </td><td>0.0              </td><td>0.0                </td><td>Feb    </td><td>4.0               </td><td>1.0               </td><td>9.0               </td><td>3.0              </td><td>Returning_Visitor</td><td>FALSE    </td><td>FALSE    </td></tr>\n",
       "<tr><td>3      </td><td>0.0               </td><td>0.0                      </td><td>0.0               </td><td>0.0                     </td><td>2.0               </td><td>2.666666667              </td><td>0.05               </td><td>0.14                </td><td>0.0              </td><td>0.0                </td><td>Feb    </td><td>3.0               </td><td>2.0               </td><td>2.0               </td><td>4.0              </td><td>Returning_Visitor</td><td>FALSE    </td><td>FALSE    </td></tr>\n",
       "<tr><td>4      </td><td>0.0               </td><td>0.0                      </td><td>0.0               </td><td>0.0                     </td><td>10.0              </td><td>627.5                    </td><td>0.02               </td><td>0.05                </td><td>0.0              </td><td>0.0                </td><td>Feb    </td><td>3.0               </td><td>3.0               </td><td>1.0               </td><td>4.0              </td><td>Returning_Visitor</td><td>TRUE     </td><td>FALSE    </td></tr>\n",
       "<tr><td>5      </td><td>0.0               </td><td>0.0                      </td><td>0.0               </td><td>0.0                     </td><td>19.0              </td><td>154.2166667              </td><td>0.015789474        </td><td>0.024561404         </td><td>0.0              </td><td>0.0                </td><td>Feb    </td><td>2.0               </td><td>2.0               </td><td>1.0               </td><td>3.0              </td><td>Returning_Visitor</td><td>FALSE    </td><td>FALSE    </td></tr>\n",
       "<tr><td>6      </td><td>0.0               </td><td>0.0                      </td><td>0.0               </td><td>0.0                     </td><td>1.0               </td><td>0.0                      </td><td>0.2                </td><td>0.2                 </td><td>0.0              </td><td>0.4                </td><td>Feb    </td><td>2.0               </td><td>4.0               </td><td>3.0               </td><td>3.0              </td><td>Returning_Visitor</td><td>FALSE    </td><td>FALSE    </td></tr>\n",
       "<tr><td>7      </td><td>1.0               </td><td>0.0                      </td><td>0.0               </td><td>0.0                     </td><td>0.0               </td><td>0.0                      </td><td>0.2                </td><td>0.2                 </td><td>0.0              </td><td>0.0                </td><td>Feb    </td><td>1.0               </td><td>2.0               </td><td>1.0               </td><td>5.0              </td><td>Returning_Visitor</td><td>TRUE     </td><td>FALSE    </td></tr>\n",
       "<tr><td>8      </td><td>0.0               </td><td>0.0                      </td><td>0.0               </td><td>0.0                     </td><td>2.0               </td><td>37.0                     </td><td>0.0                </td><td>0.1                 </td><td>0.0              </td><td>0.8                </td><td>Feb    </td><td>2.0               </td><td>2.0               </td><td>2.0               </td><td>3.0              </td><td>Returning_Visitor</td><td>FALSE    </td><td>FALSE    </td></tr>\n",
       "<tr><td>9      </td><td>0.0               </td><td>0.0                      </td><td>0.0               </td><td>0.0                     </td><td>3.0               </td><td>738.0                    </td><td>0.0                </td><td>0.022222222         </td><td>0.0              </td><td>0.4                </td><td>Feb    </td><td>2.0               </td><td>4.0               </td><td>1.0               </td><td>2.0              </td><td>Returning_Visitor</td><td>FALSE    </td><td>FALSE    </td></tr>\n",
       "</tbody>\n",
       "</table>"
      ]
     },
     "metadata": {},
     "output_type": "display_data"
    }
   ],
   "source": [
    "df.describe()"
   ]
  },
  {
   "cell_type": "code",
   "execution_count": 29,
   "metadata": {
    "scrolled": true
   },
   "outputs": [],
   "source": [
    "# Type conversion\n",
    "df[\"OperatingSystems\"] = df[\"OperatingSystems\"].asfactor()\n",
    "df[\"Browser\"] = df[\"Browser\"].asfactor()\n",
    "df[\"Region\"] = df[\"Region\"].asfactor()\n",
    "df[\"TrafficType\"] = df[\"TrafficType\"].asfactor()"
   ]
  },
  {
   "cell_type": "code",
   "execution_count": 30,
   "metadata": {},
   "outputs": [
    {
     "name": "stdout",
     "output_type": "stream",
     "text": [
      "Rows:12330\n",
      "Cols:18\n",
      "\n",
      "\n"
     ]
    },
    {
     "data": {
      "text/html": [
       "<table>\n",
       "<thead>\n",
       "<tr><th>       </th><th>Administrative    </th><th>Administrative_Duration  </th><th>Informational     </th><th>Informational_Duration  </th><th>ProductRelated    </th><th>ProductRelated_Duration  </th><th>BounceRates        </th><th>ExitRates           </th><th>PageValues       </th><th>SpecialDay         </th><th>Month  </th><th>OperatingSystems  </th><th>Browser  </th><th>Region  </th><th>TrafficType  </th><th>VisitorType      </th><th>Weekend  </th><th>Revenue  </th></tr>\n",
       "</thead>\n",
       "<tbody>\n",
       "<tr><td>type   </td><td>int               </td><td>real                     </td><td>int               </td><td>real                    </td><td>int               </td><td>real                     </td><td>real               </td><td>real                </td><td>real             </td><td>real               </td><td>enum   </td><td>enum              </td><td>enum     </td><td>enum    </td><td>enum         </td><td>enum             </td><td>enum     </td><td>enum     </td></tr>\n",
       "<tr><td>mins   </td><td>0.0               </td><td>0.0                      </td><td>0.0               </td><td>0.0                     </td><td>0.0               </td><td>0.0                      </td><td>0.0                </td><td>0.0                 </td><td>0.0              </td><td>0.0                </td><td>       </td><td>                  </td><td>         </td><td>        </td><td>             </td><td>                 </td><td>         </td><td>         </td></tr>\n",
       "<tr><td>mean   </td><td>2.3151662611516612</td><td>80.81861053933592        </td><td>0.5035685320356855</td><td>34.47239792772303       </td><td>31.731467964314678</td><td>1194.7462199688264       </td><td>0.02219138047072181</td><td>0.04307279776650447 </td><td>5.889257862693593</td><td>0.06142741281427416</td><td>       </td><td>                  </td><td>         </td><td>        </td><td>             </td><td>                 </td><td>         </td><td>         </td></tr>\n",
       "<tr><td>maxs   </td><td>27.0              </td><td>3398.75                  </td><td>24.0              </td><td>2549.375                </td><td>705.0             </td><td>63973.52223              </td><td>0.2                </td><td>0.2                 </td><td>361.7637419      </td><td>1.0                </td><td>       </td><td>                  </td><td>         </td><td>        </td><td>             </td><td>                 </td><td>         </td><td>         </td></tr>\n",
       "<tr><td>sigma  </td><td>3.3217841061569113</td><td>176.77910747048634       </td><td>1.2701564259833908</td><td>140.74929442219795      </td><td>44.475503304936524</td><td>1913.6692878720035       </td><td>0.04848832180626067</td><td>0.048596540551443565</td><td>18.56843660780653</td><td>0.1989172731526287 </td><td>       </td><td>                  </td><td>         </td><td>        </td><td>             </td><td>                 </td><td>         </td><td>         </td></tr>\n",
       "<tr><td>zeros  </td><td>5768              </td><td>5903                     </td><td>9699              </td><td>9925                    </td><td>38                </td><td>755                      </td><td>5518               </td><td>76                  </td><td>9600             </td><td>11079              </td><td>       </td><td>                  </td><td>         </td><td>        </td><td>             </td><td>                 </td><td>         </td><td>         </td></tr>\n",
       "<tr><td>missing</td><td>0                 </td><td>0                        </td><td>0                 </td><td>0                       </td><td>0                 </td><td>0                        </td><td>0                  </td><td>0                   </td><td>0                </td><td>0                  </td><td>0      </td><td>0                 </td><td>0        </td><td>0       </td><td>0            </td><td>0                </td><td>0        </td><td>0        </td></tr>\n",
       "<tr><td>0      </td><td>0.0               </td><td>0.0                      </td><td>0.0               </td><td>0.0                     </td><td>1.0               </td><td>0.0                      </td><td>0.2                </td><td>0.2                 </td><td>0.0              </td><td>0.0                </td><td>Feb    </td><td>1                 </td><td>1        </td><td>1       </td><td>1            </td><td>Returning_Visitor</td><td>FALSE    </td><td>FALSE    </td></tr>\n",
       "<tr><td>1      </td><td>0.0               </td><td>0.0                      </td><td>0.0               </td><td>0.0                     </td><td>2.0               </td><td>64.0                     </td><td>0.0                </td><td>0.1                 </td><td>0.0              </td><td>0.0                </td><td>Feb    </td><td>2                 </td><td>2        </td><td>1       </td><td>2            </td><td>Returning_Visitor</td><td>FALSE    </td><td>FALSE    </td></tr>\n",
       "<tr><td>2      </td><td>0.0               </td><td>0.0                      </td><td>0.0               </td><td>0.0                     </td><td>1.0               </td><td>0.0                      </td><td>0.2                </td><td>0.2                 </td><td>0.0              </td><td>0.0                </td><td>Feb    </td><td>4                 </td><td>1        </td><td>9       </td><td>3            </td><td>Returning_Visitor</td><td>FALSE    </td><td>FALSE    </td></tr>\n",
       "<tr><td>3      </td><td>0.0               </td><td>0.0                      </td><td>0.0               </td><td>0.0                     </td><td>2.0               </td><td>2.666666667              </td><td>0.05               </td><td>0.14                </td><td>0.0              </td><td>0.0                </td><td>Feb    </td><td>3                 </td><td>2        </td><td>2       </td><td>4            </td><td>Returning_Visitor</td><td>FALSE    </td><td>FALSE    </td></tr>\n",
       "<tr><td>4      </td><td>0.0               </td><td>0.0                      </td><td>0.0               </td><td>0.0                     </td><td>10.0              </td><td>627.5                    </td><td>0.02               </td><td>0.05                </td><td>0.0              </td><td>0.0                </td><td>Feb    </td><td>3                 </td><td>3        </td><td>1       </td><td>4            </td><td>Returning_Visitor</td><td>TRUE     </td><td>FALSE    </td></tr>\n",
       "<tr><td>5      </td><td>0.0               </td><td>0.0                      </td><td>0.0               </td><td>0.0                     </td><td>19.0              </td><td>154.2166667              </td><td>0.015789474        </td><td>0.024561404         </td><td>0.0              </td><td>0.0                </td><td>Feb    </td><td>2                 </td><td>2        </td><td>1       </td><td>3            </td><td>Returning_Visitor</td><td>FALSE    </td><td>FALSE    </td></tr>\n",
       "<tr><td>6      </td><td>0.0               </td><td>0.0                      </td><td>0.0               </td><td>0.0                     </td><td>1.0               </td><td>0.0                      </td><td>0.2                </td><td>0.2                 </td><td>0.0              </td><td>0.4                </td><td>Feb    </td><td>2                 </td><td>4        </td><td>3       </td><td>3            </td><td>Returning_Visitor</td><td>FALSE    </td><td>FALSE    </td></tr>\n",
       "<tr><td>7      </td><td>1.0               </td><td>0.0                      </td><td>0.0               </td><td>0.0                     </td><td>0.0               </td><td>0.0                      </td><td>0.2                </td><td>0.2                 </td><td>0.0              </td><td>0.0                </td><td>Feb    </td><td>1                 </td><td>2        </td><td>1       </td><td>5            </td><td>Returning_Visitor</td><td>TRUE     </td><td>FALSE    </td></tr>\n",
       "<tr><td>8      </td><td>0.0               </td><td>0.0                      </td><td>0.0               </td><td>0.0                     </td><td>2.0               </td><td>37.0                     </td><td>0.0                </td><td>0.1                 </td><td>0.0              </td><td>0.8                </td><td>Feb    </td><td>2                 </td><td>2        </td><td>2       </td><td>3            </td><td>Returning_Visitor</td><td>FALSE    </td><td>FALSE    </td></tr>\n",
       "<tr><td>9      </td><td>0.0               </td><td>0.0                      </td><td>0.0               </td><td>0.0                     </td><td>3.0               </td><td>738.0                    </td><td>0.0                </td><td>0.022222222         </td><td>0.0              </td><td>0.4                </td><td>Feb    </td><td>2                 </td><td>4        </td><td>1       </td><td>2            </td><td>Returning_Visitor</td><td>FALSE    </td><td>FALSE    </td></tr>\n",
       "</tbody>\n",
       "</table>"
      ]
     },
     "metadata": {},
     "output_type": "display_data"
    }
   ],
   "source": [
    "df.describe()"
   ]
  },
  {
   "cell_type": "code",
   "execution_count": 31,
   "metadata": {},
   "outputs": [],
   "source": [
    "# Specify target variable\n",
    "y = \"Revenue\""
   ]
  },
  {
   "cell_type": "code",
   "execution_count": 35,
   "metadata": {},
   "outputs": [
    {
     "name": "stdout",
     "output_type": "stream",
     "text": [
      "(8674, 18)\n",
      "(3656, 18)\n"
     ]
    }
   ],
   "source": [
    "# Split into training and test\n",
    "train, test = df.split_frame(ratios=[0.7], seed=123)\n",
    "print(train.shape)\n",
    "print(test.shape)"
   ]
  },
  {
   "cell_type": "code",
   "execution_count": null,
   "metadata": {},
   "outputs": [],
   "source": [
    "### Training\n",
    "# Random Forest\n"
   ]
  },
  {
   "cell_type": "code",
   "execution_count": null,
   "metadata": {},
   "outputs": [],
   "source": [
    "# AutoML\n",
    "aml2 = h2o.H2OAutoML(max_runtime_secs=60, seed=1, project_name=\"online_shopper_intention\")\n",
    "aml2.train(y=y, training_frame=train)"
   ]
  },
  {
   "cell_type": "code",
   "execution_count": null,
   "metadata": {},
   "outputs": [],
   "source": [
    "aml.leaderboard.head()"
   ]
  },
  {
   "cell_type": "code",
   "execution_count": null,
   "metadata": {},
   "outputs": [],
   "source": [
    "pred = aml.predict(test)\n",
    "perf = aml.leader.model_performance(test)\n",
    "perf"
   ]
  }
 ],
 "metadata": {
  "kernelspec": {
   "display_name": "Python 3",
   "language": "python",
   "name": "python3"
  },
  "language_info": {
   "codemirror_mode": {
    "name": "ipython",
    "version": 3
   },
   "file_extension": ".py",
   "mimetype": "text/x-python",
   "name": "python",
   "nbconvert_exporter": "python",
   "pygments_lexer": "ipython3",
   "version": "3.6.8"
  }
 },
 "nbformat": 4,
 "nbformat_minor": 2
}
