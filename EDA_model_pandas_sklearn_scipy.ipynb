{
 "cells": [
  {
   "cell_type": "markdown",
   "metadata": {},
   "source": [
    "# Load Modules & Data"
   ]
  },
  {
   "cell_type": "code",
   "execution_count": 1,
   "metadata": {},
   "outputs": [],
   "source": [
    "import pandas as pd\n",
    "import matplotlib.pyplot as plt\n",
    "import seaborn as sns\n",
    "import math\n",
    "from scipy.stats import f_oneway\n",
    "\n",
    "from sklearn.model_selection import train_test_split\n",
    "from sklearn.preprocessing import StandardScaler, OneHotEncoder\n",
    "from sklearn.metrics import roc_curve, roc_auc_score\n",
    "\n",
    "from sklearn.neighbors import KNeighborsClassifier\n",
    "\n",
    "from sklearn.linear_model import LogisticRegression\n"
   ]
  },
  {
   "cell_type": "code",
   "execution_count": 2,
   "metadata": {},
   "outputs": [],
   "source": [
    "plt.style.use('seaborn-white')\n",
    "sns.set(style=\"whitegrid\")"
   ]
  },
  {
   "cell_type": "code",
   "execution_count": 3,
   "metadata": {
    "scrolled": false
   },
   "outputs": [
    {
     "data": {
      "text/html": [
       "<div>\n",
       "<style scoped>\n",
       "    .dataframe tbody tr th:only-of-type {\n",
       "        vertical-align: middle;\n",
       "    }\n",
       "\n",
       "    .dataframe tbody tr th {\n",
       "        vertical-align: top;\n",
       "    }\n",
       "\n",
       "    .dataframe thead th {\n",
       "        text-align: right;\n",
       "    }\n",
       "</style>\n",
       "<table border=\"1\" class=\"dataframe\">\n",
       "  <thead>\n",
       "    <tr style=\"text-align: right;\">\n",
       "      <th></th>\n",
       "      <th>Administrative</th>\n",
       "      <th>Administrative_Duration</th>\n",
       "      <th>Informational</th>\n",
       "      <th>Informational_Duration</th>\n",
       "      <th>ProductRelated</th>\n",
       "      <th>ProductRelated_Duration</th>\n",
       "      <th>BounceRates</th>\n",
       "      <th>ExitRates</th>\n",
       "      <th>PageValues</th>\n",
       "      <th>SpecialDay</th>\n",
       "      <th>Month</th>\n",
       "      <th>OperatingSystems</th>\n",
       "      <th>Browser</th>\n",
       "      <th>Region</th>\n",
       "      <th>TrafficType</th>\n",
       "      <th>VisitorType</th>\n",
       "      <th>Weekend</th>\n",
       "      <th>Revenue</th>\n",
       "    </tr>\n",
       "  </thead>\n",
       "  <tbody>\n",
       "    <tr>\n",
       "      <th>0</th>\n",
       "      <td>0</td>\n",
       "      <td>0.0</td>\n",
       "      <td>0</td>\n",
       "      <td>0.0</td>\n",
       "      <td>1</td>\n",
       "      <td>0.000000</td>\n",
       "      <td>0.20</td>\n",
       "      <td>0.20</td>\n",
       "      <td>0.0</td>\n",
       "      <td>0.0</td>\n",
       "      <td>Feb</td>\n",
       "      <td>1</td>\n",
       "      <td>1</td>\n",
       "      <td>1</td>\n",
       "      <td>1</td>\n",
       "      <td>Returning_Visitor</td>\n",
       "      <td>False</td>\n",
       "      <td>False</td>\n",
       "    </tr>\n",
       "    <tr>\n",
       "      <th>1</th>\n",
       "      <td>0</td>\n",
       "      <td>0.0</td>\n",
       "      <td>0</td>\n",
       "      <td>0.0</td>\n",
       "      <td>2</td>\n",
       "      <td>64.000000</td>\n",
       "      <td>0.00</td>\n",
       "      <td>0.10</td>\n",
       "      <td>0.0</td>\n",
       "      <td>0.0</td>\n",
       "      <td>Feb</td>\n",
       "      <td>2</td>\n",
       "      <td>2</td>\n",
       "      <td>1</td>\n",
       "      <td>2</td>\n",
       "      <td>Returning_Visitor</td>\n",
       "      <td>False</td>\n",
       "      <td>False</td>\n",
       "    </tr>\n",
       "    <tr>\n",
       "      <th>2</th>\n",
       "      <td>0</td>\n",
       "      <td>0.0</td>\n",
       "      <td>0</td>\n",
       "      <td>0.0</td>\n",
       "      <td>1</td>\n",
       "      <td>0.000000</td>\n",
       "      <td>0.20</td>\n",
       "      <td>0.20</td>\n",
       "      <td>0.0</td>\n",
       "      <td>0.0</td>\n",
       "      <td>Feb</td>\n",
       "      <td>4</td>\n",
       "      <td>1</td>\n",
       "      <td>9</td>\n",
       "      <td>3</td>\n",
       "      <td>Returning_Visitor</td>\n",
       "      <td>False</td>\n",
       "      <td>False</td>\n",
       "    </tr>\n",
       "    <tr>\n",
       "      <th>3</th>\n",
       "      <td>0</td>\n",
       "      <td>0.0</td>\n",
       "      <td>0</td>\n",
       "      <td>0.0</td>\n",
       "      <td>2</td>\n",
       "      <td>2.666667</td>\n",
       "      <td>0.05</td>\n",
       "      <td>0.14</td>\n",
       "      <td>0.0</td>\n",
       "      <td>0.0</td>\n",
       "      <td>Feb</td>\n",
       "      <td>3</td>\n",
       "      <td>2</td>\n",
       "      <td>2</td>\n",
       "      <td>4</td>\n",
       "      <td>Returning_Visitor</td>\n",
       "      <td>False</td>\n",
       "      <td>False</td>\n",
       "    </tr>\n",
       "    <tr>\n",
       "      <th>4</th>\n",
       "      <td>0</td>\n",
       "      <td>0.0</td>\n",
       "      <td>0</td>\n",
       "      <td>0.0</td>\n",
       "      <td>10</td>\n",
       "      <td>627.500000</td>\n",
       "      <td>0.02</td>\n",
       "      <td>0.05</td>\n",
       "      <td>0.0</td>\n",
       "      <td>0.0</td>\n",
       "      <td>Feb</td>\n",
       "      <td>3</td>\n",
       "      <td>3</td>\n",
       "      <td>1</td>\n",
       "      <td>4</td>\n",
       "      <td>Returning_Visitor</td>\n",
       "      <td>True</td>\n",
       "      <td>False</td>\n",
       "    </tr>\n",
       "  </tbody>\n",
       "</table>\n",
       "</div>"
      ],
      "text/plain": [
       "   Administrative  Administrative_Duration  Informational  \\\n",
       "0               0                      0.0              0   \n",
       "1               0                      0.0              0   \n",
       "2               0                      0.0              0   \n",
       "3               0                      0.0              0   \n",
       "4               0                      0.0              0   \n",
       "\n",
       "   Informational_Duration  ProductRelated  ProductRelated_Duration  \\\n",
       "0                     0.0               1                 0.000000   \n",
       "1                     0.0               2                64.000000   \n",
       "2                     0.0               1                 0.000000   \n",
       "3                     0.0               2                 2.666667   \n",
       "4                     0.0              10               627.500000   \n",
       "\n",
       "   BounceRates  ExitRates  PageValues  SpecialDay Month  OperatingSystems  \\\n",
       "0         0.20       0.20         0.0         0.0   Feb                 1   \n",
       "1         0.00       0.10         0.0         0.0   Feb                 2   \n",
       "2         0.20       0.20         0.0         0.0   Feb                 4   \n",
       "3         0.05       0.14         0.0         0.0   Feb                 3   \n",
       "4         0.02       0.05         0.0         0.0   Feb                 3   \n",
       "\n",
       "   Browser  Region  TrafficType        VisitorType  Weekend  Revenue  \n",
       "0        1       1            1  Returning_Visitor    False    False  \n",
       "1        2       1            2  Returning_Visitor    False    False  \n",
       "2        1       9            3  Returning_Visitor    False    False  \n",
       "3        2       2            4  Returning_Visitor    False    False  \n",
       "4        3       1            4  Returning_Visitor     True    False  "
      ]
     },
     "execution_count": 3,
     "metadata": {},
     "output_type": "execute_result"
    }
   ],
   "source": [
    "df = pd.read_csv(\"online_shoppers_intention.csv\")\n",
    "df.head()"
   ]
  },
  {
   "cell_type": "code",
   "execution_count": 4,
   "metadata": {
    "scrolled": true
   },
   "outputs": [
    {
     "name": "stdout",
     "output_type": "stream",
     "text": [
      "<class 'pandas.core.frame.DataFrame'>\n",
      "RangeIndex: 12330 entries, 0 to 12329\n",
      "Data columns (total 18 columns):\n",
      "Administrative             12330 non-null int64\n",
      "Administrative_Duration    12330 non-null float64\n",
      "Informational              12330 non-null int64\n",
      "Informational_Duration     12330 non-null float64\n",
      "ProductRelated             12330 non-null int64\n",
      "ProductRelated_Duration    12330 non-null float64\n",
      "BounceRates                12330 non-null float64\n",
      "ExitRates                  12330 non-null float64\n",
      "PageValues                 12330 non-null float64\n",
      "SpecialDay                 12330 non-null float64\n",
      "Month                      12330 non-null object\n",
      "OperatingSystems           12330 non-null int64\n",
      "Browser                    12330 non-null int64\n",
      "Region                     12330 non-null int64\n",
      "TrafficType                12330 non-null int64\n",
      "VisitorType                12330 non-null object\n",
      "Weekend                    12330 non-null bool\n",
      "Revenue                    12330 non-null bool\n",
      "dtypes: bool(2), float64(7), int64(7), object(2)\n",
      "memory usage: 1.5+ MB\n"
     ]
    }
   ],
   "source": [
    "df.info()"
   ]
  },
  {
   "cell_type": "markdown",
   "metadata": {},
   "source": [
    "# Cleaning and EDA"
   ]
  },
  {
   "cell_type": "markdown",
   "metadata": {},
   "source": [
    "##  Type Conversion"
   ]
  },
  {
   "cell_type": "code",
   "execution_count": 5,
   "metadata": {},
   "outputs": [],
   "source": [
    "####  Type conversion\n",
    "convert_types = [\"OperatingSystems\", \"Browser\", \"Region\", \"TrafficType\",\n",
    "                \"VisitorType\", \"Month\"]\n",
    "df[convert_types] = df[convert_types].astype('category')"
   ]
  },
  {
   "cell_type": "code",
   "execution_count": 6,
   "metadata": {
    "scrolled": true
   },
   "outputs": [
    {
     "name": "stdout",
     "output_type": "stream",
     "text": [
      "<class 'pandas.core.frame.DataFrame'>\n",
      "RangeIndex: 12330 entries, 0 to 12329\n",
      "Data columns (total 18 columns):\n",
      "Administrative             12330 non-null int64\n",
      "Administrative_Duration    12330 non-null float64\n",
      "Informational              12330 non-null int64\n",
      "Informational_Duration     12330 non-null float64\n",
      "ProductRelated             12330 non-null int64\n",
      "ProductRelated_Duration    12330 non-null float64\n",
      "BounceRates                12330 non-null float64\n",
      "ExitRates                  12330 non-null float64\n",
      "PageValues                 12330 non-null float64\n",
      "SpecialDay                 12330 non-null float64\n",
      "Month                      12330 non-null category\n",
      "OperatingSystems           12330 non-null category\n",
      "Browser                    12330 non-null category\n",
      "Region                     12330 non-null category\n",
      "TrafficType                12330 non-null category\n",
      "VisitorType                12330 non-null category\n",
      "Weekend                    12330 non-null bool\n",
      "Revenue                    12330 non-null bool\n",
      "dtypes: bool(2), category(6), float64(7), int64(3)\n",
      "memory usage: 1.0 MB\n"
     ]
    }
   ],
   "source": [
    "df.info()"
   ]
  },
  {
   "cell_type": "markdown",
   "metadata": {},
   "source": [
    "##  Split data into 70% train, 30% test"
   ]
  },
  {
   "cell_type": "code",
   "execution_count": 7,
   "metadata": {},
   "outputs": [
    {
     "name": "stdout",
     "output_type": "stream",
     "text": [
      "(8631, 18)\n",
      "(3699, 18)\n"
     ]
    }
   ],
   "source": [
    "####  Split train and test set\n",
    "df_trn, df_tst = train_test_split(df, test_size=0.3, random_state=123)\n",
    "\n",
    "print(df_trn.shape)\n",
    "print(df_tst.shape)"
   ]
  },
  {
   "cell_type": "markdown",
   "metadata": {},
   "source": [
    "##  EDA & Visualize (with Train Data)"
   ]
  },
  {
   "cell_type": "code",
   "execution_count": 8,
   "metadata": {
    "scrolled": true
   },
   "outputs": [
    {
     "name": "stdout",
     "output_type": "stream",
     "text": [
      "Administrative             0\n",
      "Administrative_Duration    0\n",
      "Informational              0\n",
      "Informational_Duration     0\n",
      "ProductRelated             0\n",
      "ProductRelated_Duration    0\n",
      "BounceRates                0\n",
      "ExitRates                  0\n",
      "PageValues                 0\n",
      "SpecialDay                 0\n",
      "Month                      0\n",
      "OperatingSystems           0\n",
      "Browser                    0\n",
      "Region                     0\n",
      "TrafficType                0\n",
      "VisitorType                0\n",
      "Weekend                    0\n",
      "Revenue                    0\n",
      "dtype: int64\n",
      "Administrative             0\n",
      "Administrative_Duration    0\n",
      "Informational              0\n",
      "Informational_Duration     0\n",
      "ProductRelated             0\n",
      "ProductRelated_Duration    0\n",
      "BounceRates                0\n",
      "ExitRates                  0\n",
      "PageValues                 0\n",
      "SpecialDay                 0\n",
      "Month                      0\n",
      "OperatingSystems           0\n",
      "Browser                    0\n",
      "Region                     0\n",
      "TrafficType                0\n",
      "VisitorType                0\n",
      "Weekend                    0\n",
      "Revenue                    0\n",
      "dtype: int64\n"
     ]
    }
   ],
   "source": [
    "## no explicitly coded missing values\n",
    "print(df_trn.isnull().sum())\n",
    "print(df_tst.isnull().sum())"
   ]
  },
  {
   "cell_type": "markdown",
   "metadata": {},
   "source": [
    "### [Numeric, integer] Number of pages visited: Administrative, Informational, ProductRelated"
   ]
  },
  {
   "cell_type": "code",
   "execution_count": null,
   "metadata": {
    "scrolled": true
   },
   "outputs": [
    {
     "name": "stdout",
     "output_type": "stream",
     "text": [
      "[ 5  1  0 11  6  3  4 10  2 12  9  7  8 16 19 15 13 17 14 23 18 27 24 21\n",
      " 26 22 20]\n",
      "[ 1  0  2  4  3  7  6  5  9 10  8 16 12 11 13 14]\n",
      "[ 77  37   9   1  64  49   7 133  25 224  10  40   8  27  31   5  72  53\n",
      "   0  34  30  23  46 222   2 106  18  13  28  21  29  22   3  11  20   6\n",
      "  39  15  42  79  38  35   4 152  36  89  33  16  17 104  26  63  19  96\n",
      "  50 162  69  88 108  45  14  95  61  12  62  97 136  78  87  56 237  76\n",
      "  41 137  90  44 221  85  93  83  48  24  68 109  32  47  60  54  66 385\n",
      "  59  51 115  71  65 105 146 163  70 111  57 161  84  58 135  43  55  86\n",
      " 126 128 159 151 113 101 117 324  82  94 131 336 124  74  81 145  67  52\n",
      " 238 358 189 100 210  98 102 195  91 155 167 251 103 357 213 171 217 141\n",
      " 154 231 275 107 180 121 130 378  75 118 125 129 401 156 202 219 216 114\n",
      " 174 230 112 157  80  73 199 122 173 262 120 144 200 486 260  92  99 232\n",
      " 190 204 164 181 116 197 176 170 186 198 127 414 286 140 584 175 134 220\n",
      " 110 449 256 218 318 340 153 149 280 160 138 261 191 178 150 143 337 255\n",
      " 359 338 123 429 148 165 247 166 439 192 182 266 142 243 119 194 207 193\n",
      " 132 235 172 183 326 351 397 293 246 229 343 315 227 310 518 470 274 139\n",
      " 283 339 346 374 225 276 391 147 168 248 205 517 211 169 188 311 440 279\n",
      " 409 312 290 282 349 179 184 304 305 291 377 250 309]\n"
     ]
    }
   ],
   "source": [
    "page_count_cols = [\"Administrative\",\"Informational\",\"ProductRelated\"]\n",
    "print(df_trn.Administrative.unique())\n",
    "print(df_trn.Informational.unique())\n",
    "print(df_trn.ProductRelated.unique())"
   ]
  },
  {
   "cell_type": "code",
   "execution_count": null,
   "metadata": {},
   "outputs": [
    {
     "data": {
      "text/plain": [
       "Administrative     (0, 27)\n",
       "Informational      (0, 16)\n",
       "ProductRelated    (0, 584)\n",
       "dtype: object"
      ]
     },
     "execution_count": 10,
     "metadata": {},
     "output_type": "execute_result"
    }
   ],
   "source": [
    "page_count_cols = [\"Administrative\",\"Informational\",\"ProductRelated\"]\n",
    "df_trn[page_count_cols].apply(lambda x: (x.min(), x.max()))"
   ]
  },
  {
   "cell_type": "code",
   "execution_count": null,
   "metadata": {},
   "outputs": [],
   "source": [
    "def create_plots(y_name, data, plt_type, log=False):\n",
    "    y = data[y_name]\n",
    "    if plt_type == 'violin':\n",
    "        if log:\n",
    "            sns.violinplot(y=y.apply(lambda x: math.log(x+1)), x=\"Revenue\", data=data)\n",
    "        else:\n",
    "            sns.violinplot(y=y, x=\"Revenue\", data=data)\n",
    "    elif plt_type == 'boxplot':\n",
    "        if log:\n",
    "            sns.boxplot(y=y.apply(lambda x: math.log(x+1)), x=\"Revenue\", data=data)\n",
    "        else:\n",
    "            sns.boxplot(y=y, x=\"Revenue\", data=data)"
   ]
  },
  {
   "cell_type": "code",
   "execution_count": null,
   "metadata": {
    "scrolled": false
   },
   "outputs": [
    {
     "data": {
      "image/png": "[encoded data removed]",
      "text/plain": [
       "<Figure size 1440x384 with 3 Axes>"
      ]
     },
     "metadata": {},
     "output_type": "display_data"
    }
   ],
   "source": [
    "plt.figure(figsize=(15, 4), dpi=96)\n",
    "\n",
    "plt.subplot(1,3,1)\n",
    "create_plots(y_name=\"Administrative\", data=df_trn, plt_type=\"violin\", log=True)\n",
    "plt.subplot(1,3,2)\n",
    "create_plots(y_name=\"Informational\", data=df_trn, plt_type=\"violin\", log=True)\n",
    "plt.subplot(1,3,3)\n",
    "create_plots(y_name=\"ProductRelated\", data=df_trn, plt_type=\"violin\", log=True)\n",
    "\n",
    "plt.show()"
   ]
  },
  {
   "cell_type": "markdown",
   "metadata": {},
   "source": [
    "#### Percentages of webpages visited"
   ]
  },
  {
   "cell_type": "code",
   "execution_count": null,
   "metadata": {
    "scrolled": false
   },
   "outputs": [
    {
     "data": {
      "text/html": [
       "<div>\n",
       "<style scoped>\n",
       "    .dataframe tbody tr th:only-of-type {\n",
       "        vertical-align: middle;\n",
       "    }\n",
       "\n",
       "    .dataframe tbody tr th {\n",
       "        vertical-align: top;\n",
       "    }\n",
       "\n",
       "    .dataframe thead th {\n",
       "        text-align: right;\n",
       "    }\n",
       "</style>\n",
       "<table border=\"1\" class=\"dataframe\">\n",
       "  <thead>\n",
       "    <tr style=\"text-align: right;\">\n",
       "      <th></th>\n",
       "      <th>Administrative</th>\n",
       "      <th>Informational</th>\n",
       "      <th>ProductRelated</th>\n",
       "    </tr>\n",
       "    <tr>\n",
       "      <th>Revenue</th>\n",
       "      <th></th>\n",
       "      <th></th>\n",
       "      <th></th>\n",
       "    </tr>\n",
       "  </thead>\n",
       "  <tbody>\n",
       "    <tr>\n",
       "      <th>False</th>\n",
       "      <td>2.129705</td>\n",
       "      <td>0.450764</td>\n",
       "      <td>28.380251</td>\n",
       "    </tr>\n",
       "    <tr>\n",
       "      <th>True</th>\n",
       "      <td>3.386451</td>\n",
       "      <td>0.755196</td>\n",
       "      <td>49.152425</td>\n",
       "    </tr>\n",
       "  </tbody>\n",
       "</table>\n",
       "</div>"
      ],
      "text/plain": [
       "         Administrative  Informational  ProductRelated\n",
       "Revenue                                               \n",
       "False          2.129705       0.450764       28.380251\n",
       "True           3.386451       0.755196       49.152425"
      ]
     },
     "execution_count": 13,
     "metadata": {},
     "output_type": "execute_result"
    }
   ],
   "source": [
    "page_count = df_trn[page_count_cols].groupby(df_trn.Revenue).mean()\n",
    "page_count"
   ]
  },
  {
   "cell_type": "code",
   "execution_count": null,
   "metadata": {},
   "outputs": [
    {
     "data": {
      "image/png": "[encoded data removed]",
      "text/plain": [
       "<Figure size 384x384 with 1 Axes>"
      ]
     },
     "metadata": {},
     "output_type": "display_data"
    }
   ],
   "source": [
    "plt.figure(figsize=(4, 4), dpi=96)\n",
    "page_count_plt = pd.melt(page_count.reset_index(), id_vars='Revenue',\n",
    "                         var_name=\"Webpage Type\", value_name=\"Average Number of Visits\")\n",
    "page_count_plt[\"Webpage Type\"] = page_count_plt[\"Webpage Type\"].astype(str).str.replace(\"_Duration\", \"\")\n",
    "sns.barplot(x=\"Webpage Type\", y=\"Average Number of Visits\", hue=\"Revenue\", \n",
    "            data=page_count_plt)\n",
    "plt.xticks(rotation=30)\n",
    "plt.show()"
   ]
  },
  {
   "cell_type": "code",
   "execution_count": null,
   "metadata": {
    "scrolled": true
   },
   "outputs": [
    {
     "data": {
      "image/png": "[encoded data removed]",
      "text/plain": [
       "<Figure size 1152x384 with 2 Axes>"
      ]
     },
     "metadata": {},
     "output_type": "display_data"
    }
   ],
   "source": [
    "plt.figure(figsize=(12, 4), dpi=96)\n",
    "                   \n",
    "plt.subplot(1,2,1)\n",
    "plt.pie(page_count.iloc[0,:], labels=page_count.columns,\n",
    "        autopct='%1.1f%%', shadow=False, \n",
    "        colors=['yellowgreen', 'lightcoral', 'lightskyblue'])\n",
    "plt.axis('equal')\n",
    "plt.title('Complete transaction: NO')\n",
    "\n",
    "plt.subplot(1,2,2)\n",
    "plt.pie(page_count.iloc[1,:], labels=page_count.columns,\n",
    "        autopct='%1.1f%%', shadow=False, \n",
    "        colors=['yellowgreen', 'lightcoral', 'lightskyblue'])\n",
    "plt.axis('equal')\n",
    "plt.title('Complete transaction: YES')\n",
    "\n",
    "plt.show()"
   ]
  },
  {
   "cell_type": "markdown",
   "metadata": {},
   "source": [
    "### [Numeric, float] Duration spent on each type of webpage"
   ]
  },
  {
   "cell_type": "code",
   "execution_count": null,
   "metadata": {},
   "outputs": [
    {
     "data": {
      "text/html": [
       "<div>\n",
       "<style scoped>\n",
       "    .dataframe tbody tr th:only-of-type {\n",
       "        vertical-align: middle;\n",
       "    }\n",
       "\n",
       "    .dataframe tbody tr th {\n",
       "        vertical-align: top;\n",
       "    }\n",
       "\n",
       "    .dataframe thead th {\n",
       "        text-align: right;\n",
       "    }\n",
       "</style>\n",
       "<table border=\"1\" class=\"dataframe\">\n",
       "  <thead>\n",
       "    <tr style=\"text-align: right;\">\n",
       "      <th></th>\n",
       "      <th>Administrative_Duration</th>\n",
       "      <th>Informational_Duration</th>\n",
       "      <th>ProductRelated_Duration</th>\n",
       "    </tr>\n",
       "  </thead>\n",
       "  <tbody>\n",
       "    <tr>\n",
       "      <th>count</th>\n",
       "      <td>8631.000000</td>\n",
       "      <td>8631.000000</td>\n",
       "      <td>8631.000000</td>\n",
       "    </tr>\n",
       "    <tr>\n",
       "      <th>mean</th>\n",
       "      <td>80.035963</td>\n",
       "      <td>33.735985</td>\n",
       "      <td>1179.548652</td>\n",
       "    </tr>\n",
       "    <tr>\n",
       "      <th>std</th>\n",
       "      <td>173.132521</td>\n",
       "      <td>138.995400</td>\n",
       "      <td>1895.590842</td>\n",
       "    </tr>\n",
       "    <tr>\n",
       "      <th>min</th>\n",
       "      <td>0.000000</td>\n",
       "      <td>0.000000</td>\n",
       "      <td>0.000000</td>\n",
       "    </tr>\n",
       "    <tr>\n",
       "      <th>25%</th>\n",
       "      <td>0.000000</td>\n",
       "      <td>0.000000</td>\n",
       "      <td>182.208333</td>\n",
       "    </tr>\n",
       "    <tr>\n",
       "      <th>50%</th>\n",
       "      <td>7.000000</td>\n",
       "      <td>0.000000</td>\n",
       "      <td>593.701980</td>\n",
       "    </tr>\n",
       "    <tr>\n",
       "      <th>75%</th>\n",
       "      <td>93.115833</td>\n",
       "      <td>0.000000</td>\n",
       "      <td>1439.177083</td>\n",
       "    </tr>\n",
       "    <tr>\n",
       "      <th>max</th>\n",
       "      <td>3398.750000</td>\n",
       "      <td>2549.375000</td>\n",
       "      <td>63973.522230</td>\n",
       "    </tr>\n",
       "  </tbody>\n",
       "</table>\n",
       "</div>"
      ],
      "text/plain": [
       "       Administrative_Duration  Informational_Duration  \\\n",
       "count              8631.000000             8631.000000   \n",
       "mean                 80.035963               33.735985   \n",
       "std                 173.132521              138.995400   \n",
       "min                   0.000000                0.000000   \n",
       "25%                   0.000000                0.000000   \n",
       "50%                   7.000000                0.000000   \n",
       "75%                  93.115833                0.000000   \n",
       "max                3398.750000             2549.375000   \n",
       "\n",
       "       ProductRelated_Duration  \n",
       "count              8631.000000  \n",
       "mean               1179.548652  \n",
       "std                1895.590842  \n",
       "min                   0.000000  \n",
       "25%                 182.208333  \n",
       "50%                 593.701980  \n",
       "75%                1439.177083  \n",
       "max               63973.522230  "
      ]
     },
     "execution_count": 16,
     "metadata": {},
     "output_type": "execute_result"
    }
   ],
   "source": [
    "page_time_cols = [\"Administrative_Duration\",\"Informational_Duration\",\"ProductRelated_Duration\"]\n",
    "df_trn[page_time_cols].describe()"
   ]
  },
  {
   "cell_type": "code",
   "execution_count": null,
   "metadata": {
    "scrolled": false
   },
   "outputs": [],
   "source": [
    "plt.figure(figsize=(15, 4), dpi=96)\n",
    "\n",
    "plt.subplot(1,3,1)\n",
    "create_plots(y_name=\"Administrative_Duration\", data=df_trn, plt_type=\"violin\", log=True)\n",
    "plt.subplot(1,3,2)\n",
    "create_plots(y_name=\"Informational_Duration\", data=df_trn, plt_type=\"violin\", log=True)\n",
    "plt.subplot(1,3,3)\n",
    "create_plots(y_name=\"ProductRelated_Duration\", data=df_trn, plt_type=\"violin\", log=True)\n",
    "\n",
    "plt.show()"
   ]
  },
  {
   "cell_type": "markdown",
   "metadata": {},
   "source": [
    "#### Percentages of time spent in two classes "
   ]
  },
  {
   "cell_type": "code",
   "execution_count": null,
   "metadata": {
    "scrolled": true
   },
   "outputs": [],
   "source": [
    "page_time = df_trn[page_time_cols].groupby(df_trn.Revenue).mean()\n",
    "page_time"
   ]
  },
  {
   "cell_type": "code",
   "execution_count": null,
   "metadata": {
    "scrolled": true
   },
   "outputs": [],
   "source": [
    "plt.figure(figsize=(4, 4), dpi=96)\n",
    "page_time_plt = pd.melt(page_time.reset_index(), id_vars='Revenue',\n",
    "                       var_name=\"Webpage Type\", value_name=\"Average Duration\")\n",
    "page_time_plt[\"Webpage Type\"] = page_time_plt[\"Webpage Type\"].astype(str).str.replace(\"_Duration\", \"\")\n",
    "sns.barplot(x=\"Webpage Type\", y=\"Average Duration\", hue=\"Revenue\", \n",
    "            data=page_time_plt)\n",
    "plt.xticks(rotation=30)\n",
    "plt.show()"
   ]
  },
  {
   "cell_type": "code",
   "execution_count": null,
   "metadata": {
    "scrolled": false
   },
   "outputs": [],
   "source": [
    "plt.figure(figsize=(12, 4), dpi=96)\n",
    "                   \n",
    "plt.subplot(1,2,1)\n",
    "plt.pie(page_time.iloc[0,:], labels=page_time.columns.str.replace(\"_Duration\",\"\"),\n",
    "        autopct='%1.1f%%', shadow=False, \n",
    "        colors=['yellowgreen', 'lightcoral', 'lightskyblue'])\n",
    "plt.axis('equal')\n",
    "plt.title('Complete transaction: NO')\n",
    "\n",
    "plt.subplot(1,2,2)\n",
    "plt.pie(page_time.iloc[1,:], labels=page_time.columns.str.replace(\"_Duration\",\"\"),\n",
    "        autopct='%1.1f%%', shadow=False, \n",
    "        colors=['yellowgreen', 'lightcoral', 'lightskyblue'])\n",
    "plt.axis('equal')\n",
    "plt.title('Complete transaction: YES')\n",
    "\n",
    "plt.show()"
   ]
  },
  {
   "cell_type": "markdown",
   "metadata": {},
   "source": [
    "Summary:\n",
    "+ It appears that on average, people who complete transactions visit more webpages, and spend more time on these webpages.\n",
    "+ There doesn't seem to be a clear difference in the type of webpage visited between people who complete the purchase and those who don't."
   ]
  },
  {
   "cell_type": "markdown",
   "metadata": {},
   "source": [
    "### [Numeric] Google Analytics web metrics: Bounce Rates, Exit Rates, Page Values"
   ]
  },
  {
   "cell_type": "code",
   "execution_count": null,
   "metadata": {},
   "outputs": [],
   "source": [
    "ga_metrics = [\"BounceRates\", \"ExitRates\", \"PageValues\"]\n",
    "df_trn[ga_metrics].describe()"
   ]
  },
  {
   "cell_type": "code",
   "execution_count": null,
   "metadata": {},
   "outputs": [],
   "source": [
    "_ = df_trn[ga_metrics].hist(bins=10, figsize=(10,10))"
   ]
  },
  {
   "cell_type": "code",
   "execution_count": null,
   "metadata": {},
   "outputs": [],
   "source": [
    "plt.figure(figsize=(18, 6), dpi=96)\n",
    "plt.subplot(1,3,1)\n",
    "create_plots(y_name=\"BounceRates\", data=df_trn, plt_type=\"boxplot\", log=False)\n",
    "plt.subplot(1,3,2)\n",
    "create_plots(y_name=\"ExitRates\", data=df_trn, plt_type=\"boxplot\", log=False)\n",
    "plt.subplot(1,3,3)\n",
    "create_plots(y_name=\"PageValues\", data=df_trn, plt_type=\"boxplot\", log=False)\n",
    "plt.show()"
   ]
  },
  {
   "cell_type": "markdown",
   "metadata": {},
   "source": [
    "#### One-way ANOVA comparing GA web metrics between class"
   ]
  },
  {
   "cell_type": "code",
   "execution_count": null,
   "metadata": {},
   "outputs": [],
   "source": [
    "br_fstat, br_pval = f_oneway(df_trn[df_trn.Revenue].BounceRates, df_trn[~df_trn.Revenue].BounceRates)\n",
    "er_fstat, er_pval = f_oneway(df_trn[df_trn.Revenue].ExitRates, df_trn[~df_trn.Revenue].ExitRates)\n",
    "pv_fstat, pv_pval = f_oneway(df_trn[df_trn.Revenue].PageValues, df_trn[~df_trn.Revenue].PageValues)\n",
    "print(br_pval, er_pval, pv_pval)"
   ]
  },
  {
   "cell_type": "markdown",
   "metadata": {},
   "source": [
    "Summary: \n",
    "+ The three GA metrics are significantly difference in mean between classes, suggesting they may be important features for prediction"
   ]
  },
  {
   "cell_type": "markdown",
   "metadata": {},
   "source": [
    "### [Numeric] Special Day"
   ]
  },
  {
   "cell_type": "code",
   "execution_count": null,
   "metadata": {},
   "outputs": [],
   "source": [
    "create_plots(y_name=\"SpecialDay\", data=df_trn, plt_type=\"violin\", log=False)"
   ]
  },
  {
   "cell_type": "code",
   "execution_count": null,
   "metadata": {},
   "outputs": [],
   "source": [
    "sd_fstat, sd_pval = f_oneway(df_trn[df_trn.Revenue].SpecialDay, df_trn[~df_trn.Revenue].SpecialDay)\n",
    "sd_pval"
   ]
  },
  {
   "cell_type": "code",
   "execution_count": null,
   "metadata": {},
   "outputs": [],
   "source": [
    "print(df_trn[df_trn.Revenue].SpecialDay.mean())\n",
    "print(df_trn[~df_trn.Revenue].SpecialDay.mean())"
   ]
  },
  {
   "cell_type": "markdown",
   "metadata": {},
   "source": [
    "### [Categorical] Visit session info: OperatingSystems, Browser, TrafficType"
   ]
  },
  {
   "cell_type": "code",
   "execution_count": null,
   "metadata": {},
   "outputs": [],
   "source": [
    "def create_piechart(y_name, data):\n",
    "    freq_tb = data[y_name].groupby(data.Revenue).value_counts()\n",
    "    freq_tb = freq_tb.unstack(level='Revenue').fillna(0).transpose()\n",
    "    print(freq_tb)\n",
    "    \n",
    "    plt.figure(figsize=(12, 4), dpi=96)\n",
    "                   \n",
    "    plt.subplot(1,2,1)\n",
    "    plt.pie(freq_tb.iloc[0,:], labels=freq_tb.columns,\n",
    "            autopct='%1.1f%%', shadow=False)#, \n",
    "            #colors=['yellowgreen', 'lightcoral', 'lightskyblue'])\n",
    "    plt.axis('equal')\n",
    "    plt.title('Complete transaction: NO')\n",
    "\n",
    "    plt.subplot(1,2,2)\n",
    "    plt.pie(freq_tb.iloc[1,:], labels=freq_tb.columns,\n",
    "            autopct='%1.1f%%', shadow=False)#, \n",
    "            #colors=['yellowgreen', 'lightcoral', 'lightskyblue'])\n",
    "    plt.axis('equal')\n",
    "    plt.title('Complete transaction: YES')"
   ]
  },
  {
   "cell_type": "code",
   "execution_count": null,
   "metadata": {
    "scrolled": true
   },
   "outputs": [],
   "source": [
    "create_piechart(\"OperatingSystems\", df_trn)"
   ]
  },
  {
   "cell_type": "code",
   "execution_count": null,
   "metadata": {
    "scrolled": true
   },
   "outputs": [],
   "source": [
    "create_piechart(\"Browser\", df_trn)"
   ]
  },
  {
   "cell_type": "code",
   "execution_count": null,
   "metadata": {
    "scrolled": true
   },
   "outputs": [],
   "source": [
    "create_piechart(\"TrafficType\", df_trn)"
   ]
  },
  {
   "cell_type": "markdown",
   "metadata": {},
   "source": [
    "### [Categorical] Demographics of visitors: VisitorType, Region"
   ]
  },
  {
   "cell_type": "code",
   "execution_count": null,
   "metadata": {
    "scrolled": true
   },
   "outputs": [],
   "source": [
    "create_piechart(\"VisitorType\", df_trn)"
   ]
  },
  {
   "cell_type": "markdown",
   "metadata": {},
   "source": [
    "Summary:\n",
    "+ New visitors take up a larger percentage in those who complete transaction, while there are more returning visitors among those who do not complete the purchase."
   ]
  },
  {
   "cell_type": "code",
   "execution_count": null,
   "metadata": {
    "scrolled": true
   },
   "outputs": [],
   "source": [
    "create_piechart(\"Region\", df_trn)"
   ]
  },
  {
   "cell_type": "markdown",
   "metadata": {},
   "source": [
    "### [Categorical] Time: Weekend, Month"
   ]
  },
  {
   "cell_type": "code",
   "execution_count": null,
   "metadata": {
    "scrolled": true
   },
   "outputs": [],
   "source": [
    "create_piechart(\"Weekend\", df_trn)"
   ]
  },
  {
   "cell_type": "code",
   "execution_count": null,
   "metadata": {
    "scrolled": true
   },
   "outputs": [],
   "source": [
    "create_piechart(\"Month\", df_trn)"
   ]
  },
  {
   "cell_type": "markdown",
   "metadata": {},
   "source": [
    "Summary:\n",
    "+ In novermber, more visitors tend to complete the purchase - for holiday seasons?"
   ]
  },
  {
   "cell_type": "markdown",
   "metadata": {},
   "source": [
    "# Building Classifiers"
   ]
  },
  {
   "cell_type": "markdown",
   "metadata": {},
   "source": [
    "## Feature engineering and representations"
   ]
  },
  {
   "cell_type": "code",
   "execution_count": null,
   "metadata": {
    "scrolled": true
   },
   "outputs": [],
   "source": [
    "cat_vars = [\"OperatingSystems\", \"Browser\", \"Region\", \n",
    "            \"TrafficType\", \"VisitorType\", \"Weekend\", \"Month\"]\n",
    "num_vars = list(set(df.columns) - set(cat_vars + [\"Revenue\"]))\n",
    "\n",
    "## create one-hot vectors for categorical variables\n",
    "onehot = OneHotEncoder()\n",
    "\n",
    "# combine train and test to convert categorical variables\n",
    "df_trn['isTrain'] = True\n",
    "df_tst['isTrain'] = False\n",
    "df_concat = pd.concat([df_trn, df_tst], axis=0)\n",
    "print(df_concat.shape)\n",
    "df_concat.head()"
   ]
  },
  {
   "cell_type": "code",
   "execution_count": null,
   "metadata": {},
   "outputs": [],
   "source": [
    "df_concat_category = onehot.fit_transform(df_concat[cat_vars]).toarray()\n",
    "df_concat_category = pd.DataFrame(df_concat_category)\n",
    "print(df_concat_category.shape)\n",
    "df_concat_category.head()"
   ]
  },
  {
   "cell_type": "code",
   "execution_count": null,
   "metadata": {},
   "outputs": [],
   "source": [
    "df_concat_merged = pd.concat([df_concat[num_vars], df_concat[['isTrain', 'Revenue']],\n",
    "                              df_concat_category], axis=1)\n",
    "print(df_concat_merged.shape)\n",
    "df_concat_merged.head()"
   ]
  },
  {
   "cell_type": "code",
   "execution_count": null,
   "metadata": {},
   "outputs": [],
   "source": [
    "df_trn_trans = df_concat_merged[df_concat_merged.isTrain]\n",
    "df_tst_trans = df_concat_merged[~df_concat_merged.isTrain]\n",
    "df_trn_trans.drop('isTrain', inplace=True, axis=1)\n",
    "df_tst_trans.drop('isTrain', inplace=True, axis=1)\n",
    "print(df_trn_trans.shape)\n",
    "print(df_tst_trans.shape)\n",
    "#df_trn_trans.columns"
   ]
  },
  {
   "cell_type": "code",
   "execution_count": null,
   "metadata": {},
   "outputs": [],
   "source": [
    "print(df_trn_trans.drop('Revenue', axis=1).shape)\n",
    "print(df_trn_trans.shape)"
   ]
  },
  {
   "cell_type": "code",
   "execution_count": null,
   "metadata": {},
   "outputs": [],
   "source": [
    "trn_X = df_trn_trans.drop('Revenue', axis=1)\n",
    "tst_X = df_tst_trans.drop('Revenue', axis=1)\n",
    "trn_y = df_trn_trans.Revenue\n",
    "tst_y = df_tst_trans.Revenue\n",
    "print(trn_X.shape)\n",
    "print(tst_X.shape)\n",
    "print(trn_y.shape)\n",
    "print(tst_y.shape)"
   ]
  },
  {
   "cell_type": "markdown",
   "metadata": {},
   "source": [
    "## K nearest neighbors (KNN)"
   ]
  },
  {
   "cell_type": "code",
   "execution_count": null,
   "metadata": {
    "scrolled": true
   },
   "outputs": [],
   "source": [
    "knn_auc_trn = []\n",
    "knn_auc_tst = []\n",
    "\n",
    "k_seq = range(1, 2001, 100)\n",
    "for k in k_seq:\n",
    "    knn = KNeighborsClassifier(n_neighbors=k)\n",
    "    knn.fit(trn_X, trn_y)\n",
    "    \n",
    "    knn_pred_trn = knn.predict(trn_X)\n",
    "    knn_pred_tst = knn.predict(tst_X)\n",
    "    \n",
    "    knn_auc_trn.append(roc_auc_score(trn_y, knn_pred_trn))\n",
    "    knn_auc_tst.append(roc_auc_score(tst_y, knn_pred_tst))"
   ]
  },
  {
   "cell_type": "code",
   "execution_count": null,
   "metadata": {},
   "outputs": [],
   "source": [
    "plt.plot(list(k_seq), knn_auc_trn, 'b', label='Train AUC')\n",
    "plt.plot(list(k_seq), knn_auc_tst, 'r', label='Test AUC')\n",
    "plt.legend()\n",
    "plt.xlabel('Number of neighbors')\n",
    "plt.ylabel('AUC')\n",
    "plt.show()"
   ]
  },
  {
   "cell_type": "markdown",
   "metadata": {},
   "source": [
    "## Naive Bayes"
   ]
  },
  {
   "cell_type": "code",
   "execution_count": null,
   "metadata": {},
   "outputs": [],
   "source": []
  },
  {
   "cell_type": "markdown",
   "metadata": {},
   "source": [
    "## Logistic regression"
   ]
  },
  {
   "cell_type": "code",
   "execution_count": null,
   "metadata": {},
   "outputs": [],
   "source": []
  },
  {
   "cell_type": "markdown",
   "metadata": {},
   "source": [
    "## Random Forest"
   ]
  },
  {
   "cell_type": "code",
   "execution_count": null,
   "metadata": {},
   "outputs": [],
   "source": []
  },
  {
   "cell_type": "markdown",
   "metadata": {},
   "source": [
    "## SVM"
   ]
  },
  {
   "cell_type": "code",
   "execution_count": null,
   "metadata": {},
   "outputs": [],
   "source": []
  },
  {
   "cell_type": "markdown",
   "metadata": {},
   "source": [
    "## Neural Network (Multi-layer Perception)"
   ]
  },
  {
   "cell_type": "code",
   "execution_count": null,
   "metadata": {},
   "outputs": [],
   "source": []
  },
  {
   "cell_type": "code",
   "execution_count": null,
   "metadata": {},
   "outputs": [],
   "source": []
  }
 ],
 "metadata": {
  "kernelspec": {
   "display_name": "Python 3",
   "language": "python",
   "name": "python3"
  },
  "language_info": {
   "codemirror_mode": {
    "name": "ipython",
    "version": 3
   },
   "file_extension": ".py",
   "mimetype": "text/x-python",
   "name": "python",
   "nbconvert_exporter": "python",
   "pygments_lexer": "ipython3",
   "version": "3.6.8"
  }
 },
 "nbformat": 4,
 "nbformat_minor": 2
}
